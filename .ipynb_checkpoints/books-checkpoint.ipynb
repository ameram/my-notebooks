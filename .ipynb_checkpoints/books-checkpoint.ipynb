{
 "cells": [
  {
   "cell_type": "code",
   "execution_count": 1,
   "metadata": {},
   "outputs": [],
   "source": [
    "import pandas as pd"
   ]
  },
  {
   "cell_type": "code",
   "execution_count": 3,
   "metadata": {},
   "outputs": [
    {
     "data": {
      "text/html": [
       "<div>\n",
       "<style scoped>\n",
       "    .dataframe tbody tr th:only-of-type {\n",
       "        vertical-align: middle;\n",
       "    }\n",
       "\n",
       "    .dataframe tbody tr th {\n",
       "        vertical-align: top;\n",
       "    }\n",
       "\n",
       "    .dataframe thead th {\n",
       "        text-align: right;\n",
       "    }\n",
       "</style>\n",
       "<table border=\"1\" class=\"dataframe\">\n",
       "  <thead>\n",
       "    <tr style=\"text-align: right;\">\n",
       "      <th></th>\n",
       "      <th>Unnamed: 0</th>\n",
       "      <th>Book</th>\n",
       "      <th>Source</th>\n",
       "    </tr>\n",
       "  </thead>\n",
       "  <tbody>\n",
       "    <tr>\n",
       "      <th>0</th>\n",
       "      <td>0</td>\n",
       "      <td>Mastering Bitcoin: Programming the Open Block...</td>\n",
       "      <td>investopedia.com</td>\n",
       "    </tr>\n",
       "    <tr>\n",
       "      <th>1</th>\n",
       "      <td>1</td>\n",
       "      <td>A History of Money: Fourth Edition</td>\n",
       "      <td>fivebooks.com</td>\n",
       "    </tr>\n",
       "    <tr>\n",
       "      <th>2</th>\n",
       "      <td>2</td>\n",
       "      <td>Bitcoin From Beginner To Expert: The Ultimate ...</td>\n",
       "      <td>investopedia.com</td>\n",
       "    </tr>\n",
       "    <tr>\n",
       "      <th>3</th>\n",
       "      <td>3</td>\n",
       "      <td>Blockchain Bubble or Revolution: The Present a...</td>\n",
       "      <td>trality.com</td>\n",
       "    </tr>\n",
       "    <tr>\n",
       "      <th>4</th>\n",
       "      <td>4</td>\n",
       "      <td>Blockchain Revolution: How The Technology Behi...</td>\n",
       "      <td>investopedia.com</td>\n",
       "    </tr>\n",
       "  </tbody>\n",
       "</table>\n",
       "</div>"
      ],
      "text/plain": [
       "   Unnamed: 0                                               Book  \\\n",
       "0           0   Mastering Bitcoin: Programming the Open Block...   \n",
       "1           1                 A History of Money: Fourth Edition   \n",
       "2           2  Bitcoin From Beginner To Expert: The Ultimate ...   \n",
       "3           3  Blockchain Bubble or Revolution: The Present a...   \n",
       "4           4  Blockchain Revolution: How The Technology Behi...   \n",
       "\n",
       "             Source  \n",
       "0  investopedia.com  \n",
       "1     fivebooks.com  \n",
       "2  investopedia.com  \n",
       "3       trality.com  \n",
       "4  investopedia.com  "
      ]
     },
     "execution_count": 3,
     "metadata": {},
     "output_type": "execute_result"
    }
   ],
   "source": [
    "dd = pd.DataFrame(pd.read_excel('./Excel/crypto_books.xlsx'))\n",
    "dd.head()"
   ]
  },
  {
   "cell_type": "code",
   "execution_count": 10,
   "metadata": {},
   "outputs": [
    {
     "data": {
      "text/plain": [
       "Cryptoassets by Chris Burniske and Jack Tatar        5\n",
       "Digital Gold by Nathaniel Popper                     4\n",
       "The Book Of Satoshi: The Collected Writings of...    3\n",
       "The Internet of Money by Andreas M. Antonopoulos     2\n",
       "Blockchain Revolution: How The Technology Behi...    2\n",
       "Mastering Bitcoin by Andreas Antonopoulos            2\n",
       "The Basics of Bitcoins and Blockchains: An Int...    2\n",
       "The Bitcoin Standard: The Decentralized Altern...    2\n",
       "The Blockchain Developer: A Practical Guide fo...    1\n",
       "Mastering Bitcoin: Programming the Open Block...     1\n",
       "Bitcoin From Beginner To Expert: The Ultimate ...    1\n",
       "The Age of Cryptocurrency: How Bitcoin and Dig...    1\n",
       "Paid: Tales of Dongles, Checks, and Other Mone...    1\n",
       "Blockchain Bubble or Revolution: The Present a...    1\n",
       "A History of Money: Fourth Edition                   1\n",
       "Name: Book, dtype: int64"
      ]
     },
     "execution_count": 10,
     "metadata": {},
     "output_type": "execute_result"
    }
   ],
   "source": [
    "v = dd['Book'].value_counts()\n",
    "v"
   ]
  },
  {
   "cell_type": "code",
   "execution_count": 12,
   "metadata": {},
   "outputs": [],
   "source": [
    "import os\n",
    "os.chdir('./Excel/')\n",
    "v.to_excel('crypto_books_res.xlsx')"
   ]
  }
 ],
 "metadata": {
  "kernelspec": {
   "display_name": "Python 3",
   "language": "python",
   "name": "python3"
  },
  "language_info": {
   "codemirror_mode": {
    "name": "ipython",
    "version": 3
   },
   "file_extension": ".py",
   "mimetype": "text/x-python",
   "name": "python",
   "nbconvert_exporter": "python",
   "pygments_lexer": "ipython3",
   "version": "3.8.5"
  }
 },
 "nbformat": 4,
 "nbformat_minor": 4
}
